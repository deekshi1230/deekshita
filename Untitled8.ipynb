{
  "nbformat": 4,
  "nbformat_minor": 0,
  "metadata": {
    "colab": {
      "provenance": [],
      "authorship_tag": "ABX9TyPhasVoqZrR7yiPxQyq0th0",
      "include_colab_link": true
    },
    "kernelspec": {
      "name": "python3",
      "display_name": "Python 3"
    },
    "language_info": {
      "name": "python"
    }
  },
  "cells": [
    {
      "cell_type": "markdown",
      "metadata": {
        "id": "view-in-github",
        "colab_type": "text"
      },
      "source": [
        "<a href=\"https://colab.research.google.com/github/deekshi1230/deekshita/blob/main/Untitled8.ipynb\" target=\"_parent\"><img src=\"https://colab.research.google.com/assets/colab-badge.svg\" alt=\"Open In Colab\"/></a>"
      ]
    },
    {
      "cell_type": "code",
      "source": [
        "!poetry run get-papers-list \"cancer research\" -f results.csv"
      ],
      "metadata": {
        "colab": {
          "base_uri": "https://localhost:8080/"
        },
        "id": "B1ECI5sI1jZj",
        "outputId": "d4a94897-1fab-4040-c184-e161cef4aaf6"
      },
      "execution_count": 3,
      "outputs": [
        {
          "output_type": "stream",
          "name": "stdout",
          "text": [
            "/bin/bash: line 1: poetry: command not found\n"
          ]
        }
      ]
    },
    {
      "cell_type": "code",
      "source": [
        "import requests\n",
        "import csv\n",
        "import re\n",
        "from typing import List, Dict, Optional\n",
        "\n",
        "PUBMED_API_URL = \"https://eutils.ncbi.nlm.nih.gov/entrez/eutils/esearch.fcgi\"\n",
        "PUBMED_SUMMARY_URL = \"https://eutils.ncbi.nlm.nih.gov/entrez/eutils/esummary.fcgi\"\n",
        "\n",
        "EXCLUDE_WORDS = [\"university\", \"college\", \"hospital\", \"institute\", \"school\", \"lab\", \"research center\"]\n",
        "\n",
        "def fetch_pubmed_papers(query: str, max_results: int = 10) -> List[Dict]:\n",
        "    \"\"\"Fetches PubMed papers based on a query.\"\"\"\n",
        "    params = {\n",
        "        \"db\": \"pubmed\",\n",
        "        \"term\": query,\n",
        "        \"retmode\": \"json\",\n",
        "        \"retmax\": max_results,\n",
        "    }\n",
        "    response = requests.get(PUBMED_API_URL, params=params)\n",
        "    response.raise_for_status()\n",
        "    paper_ids = response.json().get(\"esearchresult\", {}).get(\"idlist\", [])\n",
        "\n",
        "    return fetch_paper_details(paper_ids)\n",
        "\n",
        "def fetch_paper_details(paper_ids: List[str]) -> List[Dict]:\n",
        "    \"\"\"Fetches detailed information for a list of paper IDs.\"\"\"\n",
        "    if not paper_ids:\n",
        "        return []\n",
        "\n",
        "    params = {\n",
        "        \"db\": \"pubmed\",\n",
        "        \"id\": \",\".join(paper_ids),\n",
        "        \"retmode\": \"json\"\n",
        "    }\n",
        "    response = requests.get(PUBMED_SUMMARY_URL, params=params)\n",
        "    response.raise_for_status()\n",
        "    paper_data = response.json().get(\"result\", {})\n",
        "\n",
        "    return [paper_data[pid] for pid in paper_ids if pid in paper_data]\n",
        "\n",
        "def is_non_academic(affiliation: str) -> bool:\n",
        "    \"\"\"Checks if an author's affiliation is non-academic.\"\"\"\n",
        "    return not any(word in affiliation.lower() for word in EXCLUDE_WORDS)\n",
        "\n",
        "def extract_relevant_data(papers: List[Dict]) -> List[Dict]:\n",
        "    \"\"\"Processes and extracts required fields from PubMed data.\"\"\"\n",
        "    results = []\n",
        "\n",
        "    for paper in papers:\n",
        "        paper_id = paper.get(\"uid\", \"N/A\")\n",
        "        title = paper.get(\"title\", \"N/A\")\n",
        "        pub_date = paper.get(\"pubdate\", \"N/A\")\n",
        "\n",
        "        authors = paper.get(\"authors\", [])\n",
        "        non_academic_authors = []\n",
        "        company_affiliations = []\n",
        "        corresponding_author_email = \"N/A\"\n",
        "\n",
        "        for author in authors:\n",
        "            affiliation = author.get(\"affiliation\", \"\")\n",
        "            email = author.get(\"email\", \"\")\n",
        "\n",
        "            if is_non_academic(affiliation):\n",
        "                non_academic_authors.append(author.get(\"name\", \"\"))\n",
        "                company_affiliations.append(affiliation)\n",
        "\n",
        "                if email and corresponding_author_email == \"N/A\":\n",
        "                    corresponding_author_email = email\n",
        "\n",
        "        if non_academic_authors:\n",
        "            results.append({\n",
        "                \"PubMedID\": paper_id,\n",
        "                \"Title\": title,\n",
        "                \"Publication Date\": pub_date,\n",
        "                \"Non-academic Author(s)\": \", \".join(non_academic_authors),\n",
        "                \"Company Affiliation(s)\": \", \".join(company_affiliations),\n",
        "                \"Corresponding Author Email\": corresponding_author_email\n",
        "            })\n",
        "\n",
        "    return results\n",
        "\n",
        "def save_to_csv(data: List[Dict], filename: str):\n",
        "    \"\"\"Saves results to a CSV file.\"\"\"\n",
        "    if not data:\n",
        "        print(\"No non-academic authors found.\")\n",
        "        return\n",
        "\n",
        "    with open(filename, mode=\"w\", newline=\"\", encoding=\"utf-8\") as file:\n",
        "        writer = csv.DictWriter(file, fieldnames=data[0].keys())\n",
        "        writer.writeheader()\n",
        "        writer.writerows(data)\n",
        "\n",
        "    print(f\"Results saved to {filename}\")\n"
      ],
      "metadata": {
        "id": "o4sAnusM1r96"
      },
      "execution_count": 4,
      "outputs": []
    }
  ]
}